{
 "cells": [
  {
   "cell_type": "code",
   "execution_count": 35,
   "id": "a9a3e7b4",
   "metadata": {},
   "outputs": [],
   "source": [
    "import pandas as pd\n",
    "import numpy as np \n",
    "from sklearn.model_selection import train_test_split\n",
    "from keras.models import Sequential\n",
    "from keras.layers import Dense\n",
    "from scikeras.wrappers import KerasRegressor\n",
    "from sklearn.model_selection import GridSearchCV\n"
   ]
  },
  {
   "cell_type": "code",
   "execution_count": 36,
   "id": "e56c77ba",
   "metadata": {},
   "outputs": [],
   "source": [
    "data = pd.read_csv(\"../data/model_ready.csv\")"
   ]
  },
  {
   "cell_type": "code",
   "execution_count": 37,
   "id": "4287bbcd",
   "metadata": {},
   "outputs": [
    {
     "name": "stdout",
     "output_type": "stream",
     "text": [
      "(18727, 3) (4682, 3) (18727, 2) (4682, 2)\n"
     ]
    }
   ],
   "source": [
    "X = data[[\"Timestamp\", \"Latitude\", \"Longitude\"]]\n",
    "y = data[[\"Magnitude\", \"Depth\"]]\n",
    "\n",
    "\n",
    "X_train, X_test, y_train, y_test = train_test_split(X, y, test_size=0.2, random_state=42)\n",
    "print(X_train.shape, X_test.shape, y_train.shape, y_test.shape)"
   ]
  },
  {
   "cell_type": "code",
   "execution_count": 38,
   "id": "072a4731",
   "metadata": {},
   "outputs": [],
   "source": [
    "def create_model(neurons, activation, optimizer, loss):\n",
    "    model = Sequential()\n",
    "    model.add(Dense(neurons, activation=activation, input_shape=(3,)))\n",
    "    model.add(Dense(neurons, activation))\n",
    "    model.add(Dense(2, activation='softmax'))\n",
    "\n",
    "\n",
    "    model.compile(optimizer=optimizer, loss=loss, metrics=['accuracy'])\n",
    "\n",
    "    return model"
   ]
  },
  {
   "cell_type": "code",
   "execution_count": 41,
   "id": "b2cf3f69",
   "metadata": {},
   "outputs": [],
   "source": [
    "model = KerasRegressor(model=create_model, verbose=0)\n",
    "\n",
    "param_grid = {\n",
    "    'model__neurons': [16, 64],\n",
    "    'model__activation': ['sigmoid', 'relu'],\n",
    "    'model__optimizer': ['SGD', 'Adadelta'],\n",
    "    'model__loss': ['mse', 'mae'],   # better regression losses than square_hinge\n",
    "    'batch_size': [10],\n",
    "    'epochs': [10]\n",
    "}\n"
   ]
  },
  {
   "cell_type": "code",
   "execution_count": 42,
   "id": "19137787",
   "metadata": {},
   "outputs": [
    {
     "name": "stderr",
     "output_type": "stream",
     "text": [
      "c:\\Users\\pc\\End to End project\\Earthquake Prediction\\.venv\\Lib\\site-packages\\keras\\src\\layers\\core\\dense.py:95: UserWarning: Do not pass an `input_shape`/`input_dim` argument to a layer. When using Sequential models, prefer using an `Input(shape)` object as the first layer in the model instead.\n",
      "  super().__init__(activity_regularizer=activity_regularizer, **kwargs)\n"
     ]
    },
    {
     "name": "stdout",
     "output_type": "stream",
     "text": [
      "Best: -68.223668 using {'batch_size': 10, 'epochs': 10, 'model__activation': 'sigmoid', 'model__loss': 'mae', 'model__neurons': 64, 'model__optimizer': 'SGD'}\n",
      "-97.935523 (3.807625) with: {'batch_size': 10, 'epochs': 10, 'model__activation': 'sigmoid', 'model__loss': 'mse', 'model__neurons': 16, 'model__optimizer': 'SGD'}\n",
      "-87.905362 (6.298605) with: {'batch_size': 10, 'epochs': 10, 'model__activation': 'sigmoid', 'model__loss': 'mse', 'model__neurons': 16, 'model__optimizer': 'Adadelta'}\n",
      "-97.935670 (3.807640) with: {'batch_size': 10, 'epochs': 10, 'model__activation': 'sigmoid', 'model__loss': 'mse', 'model__neurons': 64, 'model__optimizer': 'SGD'}\n",
      "-93.960750 (4.489568) with: {'batch_size': 10, 'epochs': 10, 'model__activation': 'sigmoid', 'model__loss': 'mse', 'model__neurons': 64, 'model__optimizer': 'Adadelta'}\n",
      "-70.229312 (3.221998) with: {'batch_size': 10, 'epochs': 10, 'model__activation': 'sigmoid', 'model__loss': 'mae', 'model__neurons': 16, 'model__optimizer': 'SGD'}\n",
      "-81.165253 (4.681570) with: {'batch_size': 10, 'epochs': 10, 'model__activation': 'sigmoid', 'model__loss': 'mae', 'model__neurons': 16, 'model__optimizer': 'Adadelta'}\n",
      "-68.223668 (2.631287) with: {'batch_size': 10, 'epochs': 10, 'model__activation': 'sigmoid', 'model__loss': 'mae', 'model__neurons': 64, 'model__optimizer': 'SGD'}\n",
      "-84.981138 (8.141652) with: {'batch_size': 10, 'epochs': 10, 'model__activation': 'sigmoid', 'model__loss': 'mae', 'model__neurons': 64, 'model__optimizer': 'Adadelta'}\n",
      "-85.216960 (13.368958) with: {'batch_size': 10, 'epochs': 10, 'model__activation': 'relu', 'model__loss': 'mse', 'model__neurons': 16, 'model__optimizer': 'SGD'}\n",
      "-80.149576 (12.663660) with: {'batch_size': 10, 'epochs': 10, 'model__activation': 'relu', 'model__loss': 'mse', 'model__neurons': 16, 'model__optimizer': 'Adadelta'}\n",
      "-86.327422 (15.660060) with: {'batch_size': 10, 'epochs': 10, 'model__activation': 'relu', 'model__loss': 'mse', 'model__neurons': 64, 'model__optimizer': 'SGD'}\n",
      "-73.605097 (7.860590) with: {'batch_size': 10, 'epochs': 10, 'model__activation': 'relu', 'model__loss': 'mse', 'model__neurons': 64, 'model__optimizer': 'Adadelta'}\n",
      "-85.819085 (12.120167) with: {'batch_size': 10, 'epochs': 10, 'model__activation': 'relu', 'model__loss': 'mae', 'model__neurons': 16, 'model__optimizer': 'SGD'}\n",
      "-85.566465 (13.485610) with: {'batch_size': 10, 'epochs': 10, 'model__activation': 'relu', 'model__loss': 'mae', 'model__neurons': 16, 'model__optimizer': 'Adadelta'}\n",
      "-85.659005 (14.799697) with: {'batch_size': 10, 'epochs': 10, 'model__activation': 'relu', 'model__loss': 'mae', 'model__neurons': 64, 'model__optimizer': 'SGD'}\n",
      "-80.478738 (16.009013) with: {'batch_size': 10, 'epochs': 10, 'model__activation': 'relu', 'model__loss': 'mae', 'model__neurons': 64, 'model__optimizer': 'Adadelta'}\n"
     ]
    }
   ],
   "source": [
    "grid = GridSearchCV(estimator=model, param_grid=param_grid, n_jobs=-1)\n",
    "grid_result = grid.fit(X_train, y_train)\n",
    "\n",
    "print(\"Best: %f using %s\" % (grid_result.best_score_, grid_result.best_params_))\n",
    "means = grid_result.cv_results_['mean_test_score']\n",
    "stds = grid_result.cv_results_['std_test_score']\n",
    "params = grid_result.cv_results_['params']\n",
    "\n",
    "\n",
    "for mean, stdev, param in zip(means, stds, params):\n",
    "    print(\"%f (%f) with: %r\" % (mean, stdev, param))"
   ]
  },
  {
   "cell_type": "code",
   "execution_count": 43,
   "id": "b145e656",
   "metadata": {},
   "outputs": [
    {
     "name": "stdout",
     "output_type": "stream",
     "text": [
      "Shape: (18727, 2)\n",
      "       Magnitude  Depth\n",
      "16953        6.2   10.0\n",
      "15800        5.6  217.3\n",
      "9014         6.1   10.0\n",
      "15516        5.5   10.0\n",
      "17837        6.3   21.0\n",
      "Describe:\n",
      "           Magnitude         Depth\n",
      "count  18727.000000  18727.000000\n",
      "mean       5.882290     70.608168\n",
      "std        0.421031    122.497372\n",
      "min        5.500000     -1.100000\n",
      "25%        5.600000     14.595000\n",
      "50%        5.700000     33.000000\n",
      "75%        6.000000     54.000000\n",
      "max        9.100000    691.600000\n"
     ]
    }
   ],
   "source": [
    "print(\"Shape:\", y_train.shape)\n",
    "print(y_train.head())\n",
    "print(\"Describe:\\n\", y_train.describe())\n"
   ]
  }
 ],
 "metadata": {
  "kernelspec": {
   "display_name": "Earthquake Prediction (3.12.5)",
   "language": "python",
   "name": "python3"
  },
  "language_info": {
   "codemirror_mode": {
    "name": "ipython",
    "version": 3
   },
   "file_extension": ".py",
   "mimetype": "text/x-python",
   "name": "python",
   "nbconvert_exporter": "python",
   "pygments_lexer": "ipython3",
   "version": "3.12.5"
  }
 },
 "nbformat": 4,
 "nbformat_minor": 5
}
