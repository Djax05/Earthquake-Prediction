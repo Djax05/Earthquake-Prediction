{
 "cells": [
  {
   "cell_type": "code",
   "execution_count": 17,
   "id": "a9a3e7b4",
   "metadata": {},
   "outputs": [],
   "source": [
    "import pandas as pd\n",
    "import numpy as np \n",
    "from sklearn.model_selection import train_test_split\n",
    "from keras.models import Sequential\n",
    "from keras.layers import Dense\n",
    "from scikeras.wrappers import KerasRegressor\n",
    "from sklearn.model_selection import GridSearchCV\n",
    "from sklearn.preprocessing import StandardScaler"
   ]
  },
  {
   "cell_type": "code",
   "execution_count": 13,
   "id": "e56c77ba",
   "metadata": {},
   "outputs": [],
   "source": [
    "data = pd.read_csv(\"../data/model_ready.csv\")"
   ]
  },
  {
   "cell_type": "code",
   "execution_count": 21,
   "id": "4287bbcd",
   "metadata": {},
   "outputs": [
    {
     "name": "stdout",
     "output_type": "stream",
     "text": [
      "(18727, 3) (4682, 3) (18727, 2) (4682, 2)\n"
     ]
    }
   ],
   "source": [
    "X = data[[\"Timestamp\", \"Latitude\", \"Longitude\"]]\n",
    "y = data[[\"Magnitude\", \"Depth\"]]\n",
    "\n",
    "\n",
    "X_train, X_test, y_train, y_test = train_test_split(X, y, test_size=0.2, random_state=42)\n",
    "print(X_train.shape, X_test.shape, y_train.shape, y_test.shape)\n",
    "\n",
    "X_scale = StandardScaler()\n",
    "X_train_scaled = X_scale.fit_transform(X_train)\n",
    "X_test_scaled = X_scale.transform(X_test)\n",
    "\n",
    "y_scale = StandardScaler()\n",
    "y_train_scaled = y_scale.fit_transform(y_train)\n",
    "y_test_scaled = y_scale.transform(y_test)"
   ]
  },
  {
   "cell_type": "code",
   "execution_count": 25,
   "id": "072a4731",
   "metadata": {},
   "outputs": [],
   "source": [
    "def create_model(neurons, activation, optimizer, loss):\n",
    "    model = Sequential()\n",
    "    model.add(Dense(neurons, activation=activation, input_shape=(3,)))\n",
    "    model.add(Dense(neurons, activation))\n",
    "    model.add(Dense(2, activation='softmax'))\n",
    "\n",
    "\n",
    "    model.compile(optimizer=optimizer, loss=loss, metrics=['mae', 'mse'])\n",
    "\n",
    "    return model"
   ]
  },
  {
   "cell_type": "code",
   "execution_count": 22,
   "id": "b2cf3f69",
   "metadata": {},
   "outputs": [],
   "source": [
    "model = KerasRegressor(model=create_model, verbose=0)\n",
    "\n",
    "param_grid = {\n",
    "    'model__neurons': [16, 64],\n",
    "    'model__activation': ['sigmoid', 'relu'],\n",
    "    'model__optimizer': ['SGD', 'Adadelta'],\n",
    "    'model__loss': ['mse', 'mae'],   # better regression losses than square_hinge\n",
    "    'batch_size': [10],\n",
    "    'epochs': [10]\n",
    "}\n"
   ]
  },
  {
   "cell_type": "code",
   "execution_count": 23,
   "id": "19137787",
   "metadata": {},
   "outputs": [
    {
     "name": "stderr",
     "output_type": "stream",
     "text": [
      "c:\\Users\\pc\\End to End project\\Earthquake Prediction\\.venv\\Lib\\site-packages\\keras\\src\\layers\\core\\dense.py:95: UserWarning: Do not pass an `input_shape`/`input_dim` argument to a layer. When using Sequential models, prefer using an `Input(shape)` object as the first layer in the model instead.\n",
      "  super().__init__(activity_regularizer=activity_regularizer, **kwargs)\n"
     ]
    },
    {
     "name": "stdout",
     "output_type": "stream",
     "text": [
      "Best: -0.221555 using {'batch_size': 10, 'epochs': 10, 'model__activation': 'relu', 'model__loss': 'mse', 'model__neurons': 64, 'model__optimizer': 'SGD'}\n",
      "-0.245816 (0.011491) with: {'batch_size': 10, 'epochs': 10, 'model__activation': 'sigmoid', 'model__loss': 'mse', 'model__neurons': 16, 'model__optimizer': 'SGD'}\n",
      "-0.274217 (0.020976) with: {'batch_size': 10, 'epochs': 10, 'model__activation': 'sigmoid', 'model__loss': 'mse', 'model__neurons': 16, 'model__optimizer': 'Adadelta'}\n",
      "-0.245018 (0.011163) with: {'batch_size': 10, 'epochs': 10, 'model__activation': 'sigmoid', 'model__loss': 'mse', 'model__neurons': 64, 'model__optimizer': 'SGD'}\n",
      "-0.249913 (0.011789) with: {'batch_size': 10, 'epochs': 10, 'model__activation': 'sigmoid', 'model__loss': 'mse', 'model__neurons': 64, 'model__optimizer': 'Adadelta'}\n",
      "-0.321861 (0.018486) with: {'batch_size': 10, 'epochs': 10, 'model__activation': 'sigmoid', 'model__loss': 'mae', 'model__neurons': 16, 'model__optimizer': 'SGD'}\n",
      "-0.271334 (0.011904) with: {'batch_size': 10, 'epochs': 10, 'model__activation': 'sigmoid', 'model__loss': 'mae', 'model__neurons': 16, 'model__optimizer': 'Adadelta'}\n",
      "-0.328229 (0.022153) with: {'batch_size': 10, 'epochs': 10, 'model__activation': 'sigmoid', 'model__loss': 'mae', 'model__neurons': 64, 'model__optimizer': 'SGD'}\n",
      "-0.296088 (0.036646) with: {'batch_size': 10, 'epochs': 10, 'model__activation': 'sigmoid', 'model__loss': 'mae', 'model__neurons': 64, 'model__optimizer': 'Adadelta'}\n",
      "-0.222808 (0.013337) with: {'batch_size': 10, 'epochs': 10, 'model__activation': 'relu', 'model__loss': 'mse', 'model__neurons': 16, 'model__optimizer': 'SGD'}\n",
      "-0.257924 (0.019149) with: {'batch_size': 10, 'epochs': 10, 'model__activation': 'relu', 'model__loss': 'mse', 'model__neurons': 16, 'model__optimizer': 'Adadelta'}\n",
      "-0.221555 (0.012381) with: {'batch_size': 10, 'epochs': 10, 'model__activation': 'relu', 'model__loss': 'mse', 'model__neurons': 64, 'model__optimizer': 'SGD'}\n",
      "-0.245907 (0.013607) with: {'batch_size': 10, 'epochs': 10, 'model__activation': 'relu', 'model__loss': 'mse', 'model__neurons': 64, 'model__optimizer': 'Adadelta'}\n",
      "-0.326788 (0.024611) with: {'batch_size': 10, 'epochs': 10, 'model__activation': 'relu', 'model__loss': 'mae', 'model__neurons': 16, 'model__optimizer': 'SGD'}\n",
      "-0.258893 (0.017276) with: {'batch_size': 10, 'epochs': 10, 'model__activation': 'relu', 'model__loss': 'mae', 'model__neurons': 16, 'model__optimizer': 'Adadelta'}\n",
      "-0.322558 (0.023228) with: {'batch_size': 10, 'epochs': 10, 'model__activation': 'relu', 'model__loss': 'mae', 'model__neurons': 64, 'model__optimizer': 'SGD'}\n",
      "-0.258477 (0.015362) with: {'batch_size': 10, 'epochs': 10, 'model__activation': 'relu', 'model__loss': 'mae', 'model__neurons': 64, 'model__optimizer': 'Adadelta'}\n"
     ]
    }
   ],
   "source": [
    "grid = GridSearchCV(estimator=model, param_grid=param_grid, n_jobs=-1)\n",
    "grid_result = grid.fit(X_train_scaled, y_train_scaled)\n",
    "\n",
    "print(\"Best: %f using %s\" % (grid_result.best_score_, grid_result.best_params_))\n",
    "means = grid_result.cv_results_['mean_test_score']\n",
    "stds = grid_result.cv_results_['std_test_score']\n",
    "params = grid_result.cv_results_['params']\n",
    "\n",
    "\n",
    "for mean, stdev, param in zip(means, stds, params):\n",
    "    print(\"%f (%f) with: %r\" % (mean, stdev, param))"
   ]
  },
  {
   "cell_type": "code",
   "execution_count": 26,
   "id": "806402e9",
   "metadata": {},
   "outputs": [
    {
     "name": "stdout",
     "output_type": "stream",
     "text": [
      "Epoch 1/10\n"
     ]
    },
    {
     "name": "stderr",
     "output_type": "stream",
     "text": [
      "c:\\Users\\pc\\End to End project\\Earthquake Prediction\\.venv\\Lib\\site-packages\\keras\\src\\layers\\core\\dense.py:95: UserWarning: Do not pass an `input_shape`/`input_dim` argument to a layer. When using Sequential models, prefer using an `Input(shape)` object as the first layer in the model instead.\n",
      "  super().__init__(activity_regularizer=activity_regularizer, **kwargs)\n"
     ]
    },
    {
     "name": "stdout",
     "output_type": "stream",
     "text": [
      "\u001b[1m1873/1873\u001b[0m \u001b[32m━━━━━━━━━━━━━━━━━━━━\u001b[0m\u001b[37m\u001b[0m \u001b[1m2s\u001b[0m 1ms/step - loss: 1.2382 - mae: 0.9309 - mse: 1.2382\n",
      "Epoch 2/10\n",
      "\u001b[1m1873/1873\u001b[0m \u001b[32m━━━━━━━━━━━━━━━━━━━━\u001b[0m\u001b[37m\u001b[0m \u001b[1m2s\u001b[0m 1ms/step - loss: 1.2280 - mae: 0.9273 - mse: 1.2280\n",
      "Epoch 3/10\n",
      "\u001b[1m1873/1873\u001b[0m \u001b[32m━━━━━━━━━━━━━━━━━━━━\u001b[0m\u001b[37m\u001b[0m \u001b[1m2s\u001b[0m 1ms/step - loss: 1.2249 - mae: 0.9262 - mse: 1.2249\n",
      "Epoch 4/10\n",
      "\u001b[1m1873/1873\u001b[0m \u001b[32m━━━━━━━━━━━━━━━━━━━━\u001b[0m\u001b[37m\u001b[0m \u001b[1m2s\u001b[0m 1ms/step - loss: 1.2230 - mae: 0.9255 - mse: 1.2230\n",
      "Epoch 5/10\n",
      "\u001b[1m1873/1873\u001b[0m \u001b[32m━━━━━━━━━━━━━━━━━━━━\u001b[0m\u001b[37m\u001b[0m \u001b[1m2s\u001b[0m 1ms/step - loss: 1.2218 - mae: 0.9247 - mse: 1.2218\n",
      "Epoch 6/10\n",
      "\u001b[1m1873/1873\u001b[0m \u001b[32m━━━━━━━━━━━━━━━━━━━━\u001b[0m\u001b[37m\u001b[0m \u001b[1m2s\u001b[0m 1ms/step - loss: 1.2210 - mae: 0.9245 - mse: 1.2210\n",
      "Epoch 7/10\n",
      "\u001b[1m1873/1873\u001b[0m \u001b[32m━━━━━━━━━━━━━━━━━━━━\u001b[0m\u001b[37m\u001b[0m \u001b[1m2s\u001b[0m 1ms/step - loss: 1.2202 - mae: 0.9243 - mse: 1.2202\n",
      "Epoch 8/10\n",
      "\u001b[1m1873/1873\u001b[0m \u001b[32m━━━━━━━━━━━━━━━━━━━━\u001b[0m\u001b[37m\u001b[0m \u001b[1m3s\u001b[0m 1ms/step - loss: 1.2195 - mae: 0.9239 - mse: 1.2195\n",
      "Epoch 9/10\n",
      "\u001b[1m1873/1873\u001b[0m \u001b[32m━━━━━━━━━━━━━━━━━━━━\u001b[0m\u001b[37m\u001b[0m \u001b[1m3s\u001b[0m 1ms/step - loss: 1.2190 - mae: 0.9239 - mse: 1.2190\n",
      "Epoch 10/10\n",
      "\u001b[1m1873/1873\u001b[0m \u001b[32m━━━━━━━━━━━━━━━━━━━━\u001b[0m\u001b[37m\u001b[0m \u001b[1m3s\u001b[0m 1ms/step - loss: 1.2185 - mae: 0.9236 - mse: 1.2185\n"
     ]
    },
    {
     "data": {
      "text/plain": [
       "<keras.src.callbacks.history.History at 0x15da5777320>"
      ]
     },
     "execution_count": 26,
     "metadata": {},
     "output_type": "execute_result"
    }
   ],
   "source": [
    "best_model = create_model(neurons=64, activation='relu', optimizer='SGD', loss='mse')\n",
    "best_model.fit(X_train_scaled, y_train_scaled, epochs=10, batch_size=10, verbose=1)"
   ]
  }
 ],
 "metadata": {
  "kernelspec": {
   "display_name": "Earthquake Prediction (3.12.5)",
   "language": "python",
   "name": "python3"
  },
  "language_info": {
   "codemirror_mode": {
    "name": "ipython",
    "version": 3
   },
   "file_extension": ".py",
   "mimetype": "text/x-python",
   "name": "python",
   "nbconvert_exporter": "python",
   "pygments_lexer": "ipython3",
   "version": "3.12.5"
  }
 },
 "nbformat": 4,
 "nbformat_minor": 5
}
